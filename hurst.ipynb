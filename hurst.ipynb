{
 "metadata": {
  "name": "",
  "signature": "sha256:6a272a1c65ac8bff50fd0fd9c6aa376a7ad260997d453b0e162a3c4ac3190f31"
 },
 "nbformat": 3,
 "nbformat_minor": 0,
 "worksheets": [
  {
   "cells": [
    {
     "cell_type": "markdown",
     "metadata": {},
     "source": [
      "<font face=\"sans-serif\" size=3>\n",
      "\n"
     ]
    },
    {
     "cell_type": "heading",
     "level": 1,
     "metadata": {},
     "source": [
      "Hurst Exponent"
     ]
    },
    {
     "cell_type": "heading",
     "level": 2,
     "metadata": {},
     "source": [
      "Stationary process"
     ]
    },
    {
     "cell_type": "markdown",
     "metadata": {},
     "source": [
      "<font face=\"sans-serif\" size=3>\n",
      "\n",
      "A <font color=\"blue\">stationary process</font> is a stochastic process whose joint probabilty distribution does not change when shifted in time. Formally, let $(X_{t})$ be a sochastic process and let $F_{X}(x_{t_{1}+\\tau}, \\ldots, x_{t_{k} + \\tau})$ denote the cumulative distribution function of the joint distribution at times $t_{1}+\\tau$, $\\ldots$, $t_{k}+\\tau$. Then $(X_{t})$ is said to be stationary if \n",
      "\n",
      "\n",
      "$$ F_{X}(x_{t_{1}+\\tau}, \\ldots, x_{t_{k} + \\tau}) = F_{X}(x_{t_{1}+\\tau}, \\ldots, x_{t_{k} + \\tau}) $$\n",
      "\n",
      "for all $k$, $\\tau$, $t_{1}$, $\\ldots$, $t_{k}$.\n",
      "\n",
      "\n",
      "Note that since $\\tau$ does not affect $F_{X}(\\cdot)$, the distribution $F_{X}$ is not a function of time. Consequently, the mean and variance does not change over time and do not follow any trend. \n",
      "\n",
      "<b> Examples: </b>\n",
      "\n",
      "White noises are examples of stationary process. In the discrete setting, we can take a random vector such that its components have probability distribution with mean $0$ and finite variance, and are independent (so their joint distribution must be the product of the individual distributions). \n",
      "\n",
      "\n",
      "<b> Non examples: </b>\n",
      "\n",
      "An example of a non-stationary process is the geometric brownian motion:\n",
      "\n",
      "\n",
      "$$ dS_{t} = \\mu S_{t} \\, dt + \\sigma S_{t} \\, dW_{t}.$$\n",
      "\n",
      "\n",
      "By Ito's Lemma, $S_{t}$ is log-normal:\n",
      "\n",
      "\n",
      "$$ S_{t} = S_{0} \\exp\\{(\\mu-\\sigma^{2}/2)t + \\sigma W_{t}\\}.$$\n",
      "\n",
      "\n",
      "It is well-known that \n",
      "\n",
      "\n",
      "1. The expectation of $S_{t}$ is $\\mathbb{E}[S_{t}] = S_{0} e^{\\mu t}$.\n",
      "\n",
      "2. The variance of $S_{t}$ is ${Var}[S_{t}] = S_{0}^{2} e^{2\\mu t} (e^{\\sigma^{2}t}-1)$.\n",
      "\n",
      "\n",
      "\n",
      "Hence, a geometric brownian motion (GBM) cannot be stationary since the distribution depends on $t$.\n",
      "\n",
      "\n",
      "In fact, Brownian motion itself is already not stationary. It is well-known that Brownian motion has stationary increments, but this is not the same as being a stationary process. By stationary increments, we mean that for any $s < t$, $W_{t}-W_{s}$ has the same distribution as $W_{t+\\tau}-W_{s+\\tau}$ for any $\\tau>0$.\n",
      "\n",
      "\n",
      "\n"
     ]
    },
    {
     "cell_type": "heading",
     "level": 2,
     "metadata": {},
     "source": [
      "Hurst Exponent"
     ]
    },
    {
     "cell_type": "markdown",
     "metadata": {},
     "source": [
      "<font face = \"sans-serif\" size = 3>\n",
      "Recall that for GBM,\n",
      "\n",
      "$$ d(\\log S_{t}) = \\left(\\mu-\\sigma^{2}/2 \\right) \\, dt + \\sigma dW_{t}$$\n",
      "\n",
      "and so\n",
      "\n",
      "\n",
      "$$ Var(\\log S_{t+\\tau} - \\log S_{t}) = \\sigma^{2} \\tau $$\n",
      "\n",
      "\n",
      "\n",
      "$$ Var(\\log S_{t+\\tau} - \\log S_{t}) \\sim \\tau $$\n",
      "\n",
      "\n",
      "The idea of Hurst exponent is that the speed of diffusion of a time series $(y_{t})$ is characterized by the <font color=\"blue\">variance of the log series </font> (in view of geometric brownian motion):\n",
      "\n",
      "$$ Var(\\log y_{t+\\tau} - \\log y_{t}) \\sim \\tau^{2H}.$$\n",
      "\n",
      "\n",
      "* If $H = 0.5$ then $(y_{t})$ is a GBM\n",
      "\n",
      "* If $H < 0.5$ then $(y_{t})$ is mean-reverting\n",
      "\n",
      "* If $H > 0.5$ then $(y_{t})$ is trending\n",
      "\n",
      "This number $H$ is called the Hurst exponent. "
     ]
    },
    {
     "cell_type": "code",
     "collapsed": false,
     "input": [],
     "language": "python",
     "metadata": {},
     "outputs": []
    }
   ],
   "metadata": {}
  }
 ]
}