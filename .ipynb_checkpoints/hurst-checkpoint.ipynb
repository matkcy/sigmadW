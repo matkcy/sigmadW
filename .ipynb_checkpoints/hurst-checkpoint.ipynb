{
 "metadata": {
  "name": "",
  "signature": "sha256:d1d6427c6c493e947c4b9b65c53a9b1ae549715cbb4683623aaf82135649006d"
 },
 "nbformat": 3,
 "nbformat_minor": 0,
 "worksheets": []
}